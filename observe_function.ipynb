{
 "cells": [
  {
   "cell_type": "code",
   "execution_count": 1,
   "metadata": {},
   "outputs": [
    {
     "data": {
      "text/html": [
       "        <script type=\"text/javascript\">\n",
       "        window.PlotlyConfig = {MathJaxConfig: 'local'};\n",
       "        if (window.MathJax) {MathJax.Hub.Config({SVG: {font: \"STIX-Web\"}});}\n",
       "        if (typeof require !== 'undefined') {\n",
       "        require.undef(\"plotly\");\n",
       "        requirejs.config({\n",
       "            paths: {\n",
       "                'plotly': ['https://cdn.plot.ly/plotly-2.3.1.min']\n",
       "            }\n",
       "        });\n",
       "        require(['plotly'], function(Plotly) {\n",
       "            window._Plotly = Plotly;\n",
       "        });\n",
       "        }\n",
       "        </script>\n",
       "        "
      ]
     },
     "metadata": {},
     "output_type": "display_data"
    }
   ],
   "source": [
    "from ipywidgets import interactive, interact\n",
    "import matplotlib.pyplot as plt\n",
    "import numpy as np\n",
    "import ipywidgets as widgets\n",
    "import sympy as sym\n",
    "import seaborn as sns\n",
    "import plotly.graph_objects as go\n",
    "from plotly.offline import init_notebook_mode, iplot\n",
    "from numba import jit\n",
    "\n",
    "init_notebook_mode(connected=True)\n",
    "jit(nopython=True, parallel=True)\n",
    "sns.set()\n"
   ]
  },
  {
   "cell_type": "code",
   "execution_count": 8,
   "metadata": {},
   "outputs": [],
   "source": [
    "\n",
    "\n",
    "class plot():\n",
    "    \n",
    "    def __init__(self, preWidgetN):\n",
    "        \n",
    "        self.N = preWidgetN\n",
    "        \n",
    "        x,y,n ,k = sym.symbols('x, y,n,k', real=True)\n",
    "        X=np.linspace(0, 10, 100)\n",
    "        \n",
    "        f = sym.Sum((-1)**k*(x**(2*k+1))/(sym.factorial(2*k+1)),(k,0, n))\n",
    "        f = f.subs(n, N.value)\n",
    "        f = sym.lambdify(x, f)\n",
    "        self.trace1 = go.Scatter(x=X, y=np.sin(X),\n",
    "                            mode='lines+markers',\n",
    "                            name='sin'\n",
    "                               )\n",
    "        self.trace2 = go.Scatter(x=X, y=f(X),\n",
    "                            mode='lines',\n",
    "                            name='sin-series till {0}'.format(self.N.value)\n",
    "                               )\n",
    "\n",
    "        self.fig = go.FigureWidget(data=[self.trace1, self.trace2], layout = go.Layout(template='plotly_dark'))\n",
    "        \n",
    "        #print(self.N)\n",
    "        #print(self.N.value)\n",
    "\n",
    "    def sineSeries(self, change):\n",
    "\n",
    "        x,y,n ,k = sym.symbols('x, y,n,k', real=True)\n",
    "        X=np.linspace(0, 10, 100)\n",
    "        f = sym.Sum((-1)**k*(x**(2*k+1))/(sym.factorial(2*k+1)),(k,0, n))\n",
    "        f = f.subs(n, N.value)\n",
    "        f = sym.lambdify(x, f)\n",
    "\n",
    "        trace1 = go.Scatter(x=X, y=np.sin(X),\n",
    "                        mode='lines+markers',\n",
    "                        name='sin')\n",
    "        trace2 = go.Scatter(x=X, y=f(X),\n",
    "                        mode='lines',\n",
    "                        name='sin-series till {0}'.format(N.value))\n",
    "\n",
    "\n",
    "        with self.fig.batch_update():\n",
    "            self.fig.data[0].x = X\n",
    "            self.fig.data[0].y = np.sin(X)\n",
    "            self.fig.data[0].mode = 'lines+markers'\n",
    "            self.fig.data[0].name = 'sin'\n",
    "            self.fig.data[1].x = X\n",
    "            self.fig.data[1].y = f(X)\n",
    "            self.fig.data[1].mode = 'lines'\n",
    "            self.fig.data[1].name = 'sin-series till {0}'.format(N.value)\n",
    "\n",
    "        return \n",
    "    \n",
    "    def show(self):\n",
    "        self.N.observe(self.sineSeries, names='value')\n",
    "        display(self.N, self.fig)\n",
    "        return"
   ]
  },
  {
   "cell_type": "code",
   "execution_count": 10,
   "metadata": {},
   "outputs": [
    {
     "data": {
      "application/vnd.jupyter.widget-view+json": {
       "model_id": "d2535176dc0140bfa86d7cfdc2789785",
       "version_major": 2,
       "version_minor": 0
      },
      "text/plain": [
       "IntSlider(value=0, description='partial sum order', max=20)"
      ]
     },
     "metadata": {},
     "output_type": "display_data"
    },
    {
     "data": {
      "application/vnd.jupyter.widget-view+json": {
       "model_id": "212940f1da8240bf8304689b33a86362",
       "version_major": 2,
       "version_minor": 0
      },
      "text/plain": [
       "FigureWidget({\n",
       "    'data': [{'mode': 'lines+markers',\n",
       "              'name': 'sin',\n",
       "              'type': 'scat…"
      ]
     },
     "metadata": {},
     "output_type": "display_data"
    }
   ],
   "source": [
    "N = widgets.IntSlider(min=0, max=20, step=1, value=0, description='partial sum order')\n",
    "\n",
    "p = plot(N)\n",
    "\n",
    "p.show()"
   ]
  },
  {
   "cell_type": "code",
   "execution_count": 5,
   "metadata": {},
   "outputs": [
    {
     "data": {
      "application/vnd.jupyter.widget-view+json": {
       "model_id": "92a9cf465b514e01a7738e2498a81289",
       "version_major": 2,
       "version_minor": 0
      },
      "text/plain": [
       "IntSlider(value=0, max=20)"
      ]
     },
     "metadata": {},
     "output_type": "display_data"
    },
    {
     "data": {
      "application/vnd.jupyter.widget-view+json": {
       "model_id": "d857ea7803bd4cb8b5b978a8f67108f2",
       "version_major": 2,
       "version_minor": 0
      },
      "text/plain": [
       "FigureWidget({\n",
       "    'data': [{'mode': 'lines+markers',\n",
       "              'name': 'sin',\n",
       "              'type': 'scat…"
      ]
     },
     "metadata": {},
     "output_type": "display_data"
    }
   ],
   "source": []
  },
  {
   "cell_type": "code",
   "execution_count": null,
   "metadata": {},
   "outputs": [],
   "source": []
  }
 ],
 "metadata": {
  "kernelspec": {
   "display_name": "Python 3",
   "language": "python",
   "name": "python3"
  },
  "language_info": {
   "codemirror_mode": {
    "name": "ipython",
    "version": 3
   },
   "file_extension": ".py",
   "mimetype": "text/x-python",
   "name": "python",
   "nbconvert_exporter": "python",
   "pygments_lexer": "ipython3",
   "version": "3.8.8"
  }
 },
 "nbformat": 4,
 "nbformat_minor": 4
}
