{
 "cells": [
  {
   "cell_type": "code",
   "execution_count": 1,
   "metadata": {},
   "outputs": [
    {
     "data": {
      "text/html": [
       "        <script type=\"text/javascript\">\n",
       "        window.PlotlyConfig = {MathJaxConfig: 'local'};\n",
       "        if (window.MathJax) {MathJax.Hub.Config({SVG: {font: \"STIX-Web\"}});}\n",
       "        if (typeof require !== 'undefined') {\n",
       "        require.undef(\"plotly\");\n",
       "        requirejs.config({\n",
       "            paths: {\n",
       "                'plotly': ['https://cdn.plot.ly/plotly-2.6.3.min']\n",
       "            }\n",
       "        });\n",
       "        require(['plotly'], function(Plotly) {\n",
       "            window._Plotly = Plotly;\n",
       "        });\n",
       "        }\n",
       "        </script>\n",
       "        "
      ]
     },
     "metadata": {},
     "output_type": "display_data"
    }
   ],
   "source": [
    "from ipywidgets import interactive, interact\n",
    "import matplotlib.pyplot as plt\n",
    "import numpy as np\n",
    "import ipywidgets as widgets\n",
    "import sympy as sym\n",
    "import seaborn as sns\n",
    "import plotly.graph_objects as go\n",
    "from plotly.offline import init_notebook_mode, iplot\n",
    "from numba import jit\n",
    "import pandas as pd\n",
    "import base64\n",
    "import pandas as pd\n",
    "from IPython.display import HTML\n",
    "\n",
    "init_notebook_mode(connected=True)\n",
    "jit(nopython=True, parallel=True)\n",
    "sns.set()\n"
   ]
  },
  {
   "cell_type": "markdown",
   "metadata": {},
   "source": [
    "# Interactive partial sums of sine\n",
    "\n",
    "Zoufiné Lauer-Baré"
   ]
  },
  {
   "cell_type": "code",
   "execution_count": 4,
   "metadata": {},
   "outputs": [],
   "source": [
    "\n",
    "\n",
    "class plot():\n",
    "    \n",
    "    def __init__(self, preWidgetN):\n",
    "        \n",
    "        self.N = preWidgetN\n",
    "        \n",
    "        x,y,n ,k = sym.symbols('x, y,n,k', real=True)\n",
    "        X=np.linspace(0, 10, 100)\n",
    "        \n",
    "        f = sym.Sum((-1)**k*(x**(2*k+1))/(sym.factorial(2*k+1)),(k,0, n))\n",
    "        #f = sym.Sum((-1)**k*(x**(2*k))/(sym.factorial(2*k)),(k,0, n))\n",
    "        #print(sym.latex(f))\n",
    "        f = f.subs(n, self.N.value)\n",
    "        f = sym.lambdify(x, f)\n",
    "        self.trace1 = go.Scatter(x=X, y=np.sin(X),\n",
    "                            mode='lines+markers',\n",
    "                            name='sin'\n",
    "                               )\n",
    "        self.trace2 = go.Scatter(x=X, y=f(X),\n",
    "                            mode='lines',\n",
    "                            name=r'$\\sum_{k=0}^{%s} \\frac{\\left(-1\\right)^{k} x^{2 k + 1}}{\\left(2 k + 1\\right)!}$' %(self.N.value)\n",
    "                               )\n",
    "        \n",
    "        layout = go.Layout(template='plotly_dark', title=\"Partial sums of sine\")\n",
    "\n",
    "        self.fig = go.FigureWidget(data=[self.trace1, self.trace2], \n",
    "                                   layout = layout,\n",
    "                                   layout_yaxis_range=[-3 , 3],\n",
    "                                  )\n",
    "        \n",
    "        #self.fig.update_layout(title=\"Plot Title\",)\n",
    "\n",
    "    def sineSeries(self, change):\n",
    "\n",
    "        x,y,n ,k = sym.symbols('x, y,n,k', real=True)\n",
    "        X=np.linspace(0, 10, 100)\n",
    "        f = sym.Sum((-1)**k*(x**(2*k+1))/(sym.factorial(2*k+1)),(k,0, n))\n",
    "        #f = sym.Sum((-1)**k*(x**(2*k))/(sym.factorial(2*k)),(k,0, n))\n",
    "        f = f.subs(n, self.N.value)\n",
    "        f = sym.lambdify(x, f)\n",
    "\n",
    "    def create_download_link(self, df, title = \"Download CSV file\", filename = \"data.csv\"):\n",
    "        csv = data.to_csv()\n",
    "        b64 = base64.b64encode(csv.encode())\n",
    "        payload = b64.decode()\n",
    "        html = '<a download=\"{filename}\" href=\"data:text/csv;base64,{payload}\" target=\"_blank\">{title}</a>'\n",
    "        html = html.format(payload=payload,title=title,filename=filename)\n",
    "        return HTML(html)\n",
    "\n",
    "\n",
    "\n",
    "\n",
    "\n",
    "        with self.fig.batch_update():\n",
    "            self.fig.data[1].x = X\n",
    "            self.fig.data[1].y = f(X)\n",
    "            self.fig.data[1].name = r'$\\sum_{k=0}^{%s} \\frac{\\left(-1\\right)^{k} x^{2 k + 1}}{\\left(2 k + 1\\right)!}$' %(self.N.value)\n",
    "\n",
    "        return \n",
    "    \n",
    "    \n",
    "    \n",
    "    def show(self):\n",
    "        #button = widgets.Button(description=\"Download image\")\n",
    "        self.N.observe(self.sineSeries, names='value')\n",
    "        df = pd.DataFrame(data = [[1,2],[3,4]], columns=['Col 1', 'Col 2'])\n",
    "        display(self.N,  self.fig)\n",
    "        \n",
    "        #self.create_download_link(df)\n",
    "        #self.fig.write_image(\"fig1.svg\")\n",
    "        return"
   ]
  },
  {
   "cell_type": "code",
   "execution_count": 5,
   "metadata": {},
   "outputs": [
    {
     "data": {
      "application/vnd.jupyter.widget-view+json": {
       "model_id": "82550a21629944af863346c84cfab6d5",
       "version_major": 2,
       "version_minor": 0
      },
      "text/plain": [
       "IntSlider(value=0, description='partial sum order', max=20)"
      ]
     },
     "metadata": {},
     "output_type": "display_data"
    },
    {
     "data": {
      "application/vnd.jupyter.widget-view+json": {
       "model_id": "06c075257dc649669bb331e0a3826f65",
       "version_major": 2,
       "version_minor": 0
      },
      "text/plain": [
       "FigureWidget({\n",
       "    'data': [{'mode': 'lines+markers',\n",
       "              'name': 'sin',\n",
       "              'type': 'scat…"
      ]
     },
     "metadata": {},
     "output_type": "display_data"
    }
   ],
   "source": [
    "N = widgets.IntSlider(min=0, max=20, step=1, value=0, description='partial sum order')\n",
    "\n",
    "p = plot(N)\n",
    "\n",
    "p.show()"
   ]
  },
  {
   "cell_type": "code",
   "execution_count": 8,
   "metadata": {},
   "outputs": [
    {
     "data": {
      "text/html": [
       "<a download=\"data.csv\" href=\"data:text/csv;base64,LHNpbnVzCjAsMC4wCjEsMC4yMDI2Njc5MzY1NDgyMDA5NQoyLDAuMzk2OTI0MTQ4OTI0OTIyMzQKMywwLjU3NDcwNjA0MTIxNjE3OTIKNCwwLjcyODYzNDc4MzQ2OTM1MDQKNSwwLjg1MjMyMTU2OTcxOTYxODQKNiwwLjk0MDYzMjc4NTExMjQ4NjcKNywwLjk4OTkwMzA3NjM3MjEyMzkKOCwwLjk5ODA4NzQ4MjEzNDcxODMKOSwwLjk2NDg0NjMwODk4Mzc2MzIKMTAsMC44OTE1NTkyMzA0MTEwMDM3CjExLDAuNzgxMjY4MDIzNTI2MjYzOAoxMiwwLjYzODU1MDMyMDIyNjYwMjEKMTMsMC40NjkzMjk2MTI3NzcyMDEKMTQsMC4yODA2MjkzOTk1MTQzNTY4NAoxNSwwLjA4MDI4MTY3NDg0MjgxMzUKMTYsLTAuMTIzMzk4MTM3MzYyMTc4NzEKMTcsLTAuMzIxOTU2MzE1MDcyNjE4NwoxOCwtMC41MDcxNTE3MDk0ODQ1MTQ0CjE5LC0wLjY3MTI5Nzc5MzU1MTkzMjEKMjAsLTAuODA3NTgxNjkwOTY4MzM2MwoyMSwtMC45MTAzNDY5NDQzMTA3ODI4CjIyLC0wLjk3NTMyODI4NjA2NzA0NTYKMjMsLTAuOTk5ODI4NjY4Mzg0MDg5NgoyNCwtMC45ODI4MzEyMDM5MjU2MzA2CjI1LC0wLjkyNTA0MTM3MTczODIwMjkKMjYsLTAuODI4ODU3NzM2MzczMDQyNwoyNywtMC42OTgyNzIzOTU1NjUzOTk2CjI4LC0wLjUzODcwNTI4ODM4NjE1NjMKMjksLTAuMzU2Nzc5MjQwODk4OTM4MQozMCwtMC4xNjAwNDUwODYwNDMyNTA1NwozMSwwLjA0MzMzMTczMzM2ODY4MzQ2CjMyLDAuMjQ0OTEwMDcxMDExOTc5MwozMywwLjQzNjMyMzQyNjQ3MTgxOTMKMzQsMC42MDk2MjcxOTY0OTA4MzIzCjM1LDAuNzU3NjI4NDE1MzkyNzIwMgozNiwwLjg3NDE4NDI5ODgxOTczMzUKMzcsMC45NTQ0NTcxOTk3Mzg3NTE5CjM4LDAuOTk1MTE1Mzk0Nzc3NjYzNgozOSwwLjk5NDQ3MTM2NzI2MzYxNjgKNDAsMC45NTI1NTE4NDc1MzE0NjA0CjQxLDAuODcxMDk2NzAzNDgyMzIwNwo0MiwwLjc1MzQ4NjcyNzQzOTYzNzYKNDMsMC42MDQ2MDMzMTY1MDYxNTQzCjQ0LDAuNDMwNjI1ODcwMzgyNzM3Mwo0NSwwLjIzODc3NTMxNTY0NDAzMDg3CjQ2LDAuMDM3MDE0NDAxNDg1MDYyMzcKNDcsLTAuMTY2MjgyNzkzODQ4NzU2NAo0OCwtMC4zNjI2Nzg0Mjg4MjY1NDg4CjQ5LC0wLjU0NDAyMTExMDg4OTM2OTgK\" target=\"_blank\">Download CSV file</a>"
      ],
      "text/plain": [
       "<IPython.core.display.HTML object>"
      ]
     },
     "execution_count": 8,
     "metadata": {},
     "output_type": "execute_result"
    }
   ],
   "source": [
    "import base64\n",
    "import pandas as pd\n",
    "from IPython.display import HTML\n",
    "\n",
    "def create_download_link( df, title = \"Download CSV file\", filename = \"data.csv\"):\n",
    "    csv = df.to_csv()\n",
    "    b64 = base64.b64encode(csv.encode())\n",
    "    payload = b64.decode()\n",
    "    html = '<a download=\"{filename}\" href=\"data:text/csv;base64,{payload}\" target=\"_blank\">{title}</a>'\n",
    "    html = html.format(payload=payload,title=title,filename=filename)\n",
    "    return HTML(html)\n",
    "\n",
    "df = pd.DataFrame()\n",
    "df['sinus'] = np.sin(np.linspace(0, 10))\n",
    "create_download_link(df)"
   ]
  },
  {
   "cell_type": "code",
   "execution_count": null,
   "metadata": {},
   "outputs": [],
   "source": []
  }
 ],
 "metadata": {
  "kernelspec": {
   "display_name": "Python 3",
   "language": "python",
   "name": "python3"
  },
  "language_info": {
   "codemirror_mode": {
    "name": "ipython",
    "version": 3
   },
   "file_extension": ".py",
   "mimetype": "text/x-python",
   "name": "python",
   "nbconvert_exporter": "python",
   "pygments_lexer": "ipython3",
   "version": "3.8.3"
  }
 },
 "nbformat": 4,
 "nbformat_minor": 4
}
