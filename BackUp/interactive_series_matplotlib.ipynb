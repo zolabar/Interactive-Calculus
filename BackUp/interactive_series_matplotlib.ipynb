{
 "cells": [
  {
   "cell_type": "code",
   "execution_count": 1,
   "metadata": {},
   "outputs": [],
   "source": [
    "%matplotlib inline\n",
    "from ipywidgets import interactive, interact\n",
    "import matplotlib.pyplot as plt\n",
    "import numpy as np\n",
    "import ipywidgets as widgets\n",
    "import sympy as sym\n",
    "import seaborn as sns\n",
    "from numba import jit\n",
    "\n",
    "jit(nopython=True, parallel=True)\n",
    "\n",
    "sns.set(font_scale=1.25, rc={'figure.figsize':(11,7)})\n"
   ]
  },
  {
   "cell_type": "code",
   "execution_count": 2,
   "metadata": {},
   "outputs": [],
   "source": [
    "\n",
    "\n",
    "\n",
    "\n",
    "def sineSeries(N):\n",
    "    x, y, n ,k = sym.symbols('x, y,n,k', real=True)\n",
    "    X=np.linspace(0, 10, 100)\n",
    "    f = sym.Sum((-1)**k*(x**(2*k+1))/(sym.factorial(2*k+1)),(k,0,n))\n",
    "    #print(sym.latex(f))\n",
    "    f = f.subs(n, N)\n",
    "    f = sym.lambdify(x, f)\n",
    "    plt.plot(X, np.sin(X), label='sin')\n",
    "    plt.plot(X, f(X), \n",
    "             linestyle='--', \n",
    "             label=r'$\\sum_{k=0}^{%s} \\frac{\\left(-1\\right)^{k} x^{2 k + 1}}{\\left(2 k + 1\\right)!}$' % (N)\n",
    "            )\n",
    "    plt.ylim(bottom=-5, top=5)\n",
    "    plt.legend(loc=1)\n",
    "    return "
   ]
  },
  {
   "cell_type": "markdown",
   "metadata": {},
   "source": [
    "$$\\sin(x)=x-\\frac{x^3}{6}+\\frac{x^5}{120}-...$$"
   ]
  },
  {
   "cell_type": "code",
   "execution_count": 5,
   "metadata": {},
   "outputs": [
    {
     "data": {
      "application/vnd.jupyter.widget-view+json": {
       "model_id": "cd12ed2db3964c0591859b4e84e17c98",
       "version_major": 2,
       "version_minor": 0
      },
      "text/plain": [
       "interactive(children=(IntSlider(value=10, description='N', max=20), Output()), _dom_classes=('widget-interact'…"
      ]
     },
     "metadata": {},
     "output_type": "display_data"
    },
    {
     "data": {
      "text/plain": [
       "<function __main__.sineSeries(N)>"
      ]
     },
     "execution_count": 5,
     "metadata": {},
     "output_type": "execute_result"
    }
   ],
   "source": [
    "interactive_plot = interact(sineSeries, N = widgets.IntSlider(min=0, max=20, step=1, value=10))\n",
    "interactive_plot"
   ]
  },
  {
   "cell_type": "code",
   "execution_count": 4,
   "metadata": {},
   "outputs": [
    {
     "data": {
      "text/plain": [
       "120.0"
      ]
     },
     "execution_count": 4,
     "metadata": {},
     "output_type": "execute_result"
    }
   ],
   "source": [
    "np.linspace(1, 5, 5).prod()"
   ]
  },
  {
   "cell_type": "code",
   "execution_count": null,
   "metadata": {},
   "outputs": [],
   "source": []
  }
 ],
 "metadata": {
  "kernelspec": {
   "display_name": "Python 3",
   "language": "python",
   "name": "python3"
  },
  "language_info": {
   "codemirror_mode": {
    "name": "ipython",
    "version": 3
   },
   "file_extension": ".py",
   "mimetype": "text/x-python",
   "name": "python",
   "nbconvert_exporter": "python",
   "pygments_lexer": "ipython3",
   "version": "3.8.3"
  }
 },
 "nbformat": 4,
 "nbformat_minor": 4
}
