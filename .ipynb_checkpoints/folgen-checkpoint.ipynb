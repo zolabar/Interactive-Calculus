{
 "cells": [
  {
   "cell_type": "code",
   "execution_count": 7,
   "metadata": {},
   "outputs": [
    {
     "data": {
      "text/html": [
       "        <script type=\"text/javascript\">\n",
       "        window.PlotlyConfig = {MathJaxConfig: 'local'};\n",
       "        if (window.MathJax) {MathJax.Hub.Config({SVG: {font: \"STIX-Web\"}});}\n",
       "        if (typeof require !== 'undefined') {\n",
       "        require.undef(\"plotly\");\n",
       "        requirejs.config({\n",
       "            paths: {\n",
       "                'plotly': ['https://cdn.plot.ly/plotly-2.3.1.min']\n",
       "            }\n",
       "        });\n",
       "        require(['plotly'], function(Plotly) {\n",
       "            window._Plotly = Plotly;\n",
       "        });\n",
       "        }\n",
       "        </script>\n",
       "        "
      ]
     },
     "metadata": {},
     "output_type": "display_data"
    }
   ],
   "source": [
    "from ipywidgets import interactive, interact\n",
    "import matplotlib.pyplot as plt\n",
    "import numpy as np\n",
    "import ipywidgets as widgets\n",
    "import sympy as sym\n",
    "import seaborn as sns\n",
    "import plotly.graph_objects as go\n",
    "import plotly.express as px\n",
    "from plotly.offline import init_notebook_mode, iplot\n",
    "from numba import jit\n",
    "\n",
    "init_notebook_mode(connected=True)\n",
    "jit(nopython=True, parallel=True)\n",
    "sns.set()\n"
   ]
  },
  {
   "cell_type": "code",
   "execution_count": 70,
   "metadata": {},
   "outputs": [],
   "source": [
    "\n",
    "\n",
    "class plot():\n",
    "    \n",
    "    def __init__(self, preWidgetN):\n",
    "        \n",
    "        self.N = preWidgetN\n",
    "        \n",
    "\n",
    "        n = np.linspace(0, self.N.value, self.N.value+1)\n",
    "        \n",
    "        \n",
    "        a = (3**(n+1)+2**n)/(3**n+2.)\n",
    "        \n",
    "        a = (1/np.sqrt(5))*(((1+np.sqrt(5))/2)**n-((1-np.sqrt(5))/2)**n)\n",
    "        \n",
    "        b = (1/np.sqrt(5))*(((1+np.sqrt(5))/2)**(n+1)-((1-np.sqrt(5))/2)**(n+1))\n",
    "        \n",
    "        a = a/b\n",
    "\n",
    "\n",
    "        self.trace = go.Scatter(x=n, y=a,\n",
    "                            mode='markers',\n",
    "                            name=r'$a$' \n",
    "                               )\n",
    "        \n",
    "        layout = go.Layout(template='plotly_dark')\n",
    "\n",
    "        self.fig = go.FigureWidget(data=[self.trace], \n",
    "                                   layout = layout,\n",
    "                                   #layout_yaxis_range=[-3 , 3]\n",
    "                                  )\n",
    "\n",
    "\n",
    "    def series(self, change):\n",
    "        \n",
    "        n = np.linspace(0, self.N.value, self.N.value+1)\n",
    "        \n",
    "        a = (3**(n+1)+2**n)/(3**n+2.)\n",
    "             \n",
    "        a = (1/np.sqrt(5))*(((1+np.sqrt(5))/2)**n-((1-np.sqrt(5))/2)**n)     \n",
    "                            \n",
    "        a = (1/np.sqrt(5))*(((1+np.sqrt(5))/2)**n-((1-np.sqrt(5))/2)**n)\n",
    "        \n",
    "        b = (1/np.sqrt(5))*(((1+np.sqrt(5))/2)**(n+1)-((1-np.sqrt(5))/2)**(n+1))\n",
    "        \n",
    "        a = a/b\n",
    "\n",
    "        with self.fig.batch_update():\n",
    "            self.fig.data[0].x = n\n",
    "            self.fig.data[0].y = a\n",
    "            self.fig.data[0].name = r'$n\\in {%s}$' %(self.N.value)\n",
    "            \n",
    "\n",
    "        return \n",
    "    \n",
    "    def show(self):\n",
    "        self.N.observe(self.series, names='value')\n",
    "        display(self.N, self.fig)\n",
    "        return"
   ]
  },
  {
   "cell_type": "code",
   "execution_count": 71,
   "metadata": {},
   "outputs": [
    {
     "data": {
      "application/vnd.jupyter.widget-view+json": {
       "model_id": "c0ee15ddf6354cdab0f7fbc2d574d758",
       "version_major": 2,
       "version_minor": 0
      },
      "text/plain": [
       "IntSlider(value=0, description='n', max=50)"
      ]
     },
     "metadata": {},
     "output_type": "display_data"
    },
    {
     "data": {
      "application/vnd.jupyter.widget-view+json": {
       "model_id": "a2e2b5dd85eb44c9a997ffd8b3e29662",
       "version_major": 2,
       "version_minor": 0
      },
      "text/plain": [
       "FigureWidget({\n",
       "    'data': [{'mode': 'markers',\n",
       "              'name': '$a$',\n",
       "              'type': 'scatter',\n",
       "…"
      ]
     },
     "metadata": {},
     "output_type": "display_data"
    }
   ],
   "source": [
    "N = widgets.IntSlider(min=0, max=50, step=1, value=0, description='n')\n",
    "\n",
    "p = plot(N)\n",
    "\n",
    "p.show()"
   ]
  },
  {
   "cell_type": "code",
   "execution_count": null,
   "metadata": {},
   "outputs": [],
   "source": []
  }
 ],
 "metadata": {
  "kernelspec": {
   "display_name": "Python 3",
   "language": "python",
   "name": "python3"
  },
  "language_info": {
   "codemirror_mode": {
    "name": "ipython",
    "version": 3
   },
   "file_extension": ".py",
   "mimetype": "text/x-python",
   "name": "python",
   "nbconvert_exporter": "python",
   "pygments_lexer": "ipython3",
   "version": "3.8.8"
  }
 },
 "nbformat": 4,
 "nbformat_minor": 4
}
