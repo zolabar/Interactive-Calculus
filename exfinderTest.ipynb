{
 "cells": [
  {
   "cell_type": "code",
   "execution_count": 1,
   "metadata": {},
   "outputs": [],
   "source": [
    "\n",
    "import sympy as sym\n",
    "import numpy as np\n",
    "from exFinder.extremeValues import exFinder\n",
    "x, y, z= sym.symbols('x y z', real=True)"
   ]
  },
  {
   "cell_type": "markdown",
   "metadata": {},
   "source": [
    "# Symbolische Berechnung von Extremwerten: Sympy und Numpy\n",
    "Dr. Lauer-Baré, *exfinder* funktioniert für Funktionen die von $\\mathbb{R}^2$ nach $\\mathbb{R}$ abbilden, die Variablen sollen $x,y$ heißen.\n",
    "*exfinder* findet auf symbloische Art und Weise für eine Funktion die stationären Punkte, die Eigenwerte der entsprechenden Hessematrix und die Interpretation des stationären Punktes."
   ]
  },
  {
   "cell_type": "code",
   "execution_count": 2,
   "metadata": {},
   "outputs": [
    {
     "name": "stdout",
     "output_type": "stream",
     "text": [
      "function:\n",
      "(x - 2)**4 + (x - 2*y)**2\n",
      " \n",
      "(2, 1) {10: 1, 0: 1} not classifiable\n"
     ]
    }
   ],
   "source": [
    "f=(x-2)**4+(x-2*y)**2\n",
    "\n",
    "stsf=exFinder(f)\n",
    "\n",
    "#stsf[1]"
   ]
  },
  {
   "cell_type": "code",
   "execution_count": 3,
   "metadata": {},
   "outputs": [
    {
     "name": "stdout",
     "output_type": "stream",
     "text": [
      "function:\n",
      "x**2*(x + 1) + y**2*(x - 1)\n",
      " \n",
      "(-2/3, 0) {-2: 1, -10/3: 1} max\n",
      "(0, 0) {2: 1, -2: 1} saddle\n"
     ]
    }
   ],
   "source": [
    "f=y**2*(x-1)+x**2*(x+1)\n",
    "\n",
    "stsf=exFinder(f)\n",
    "\n",
    "#stsf[1]"
   ]
  }
 ],
 "metadata": {
  "kernelspec": {
   "display_name": "Python 3",
   "language": "python",
   "name": "python3"
  },
  "language_info": {
   "codemirror_mode": {
    "name": "ipython",
    "version": 3
   },
   "file_extension": ".py",
   "mimetype": "text/x-python",
   "name": "python",
   "nbconvert_exporter": "python",
   "pygments_lexer": "ipython3",
   "version": "3.8.8"
  },
  "varInspector": {
   "cols": {
    "lenName": 16,
    "lenType": 16,
    "lenVar": 40
   },
   "kernels_config": {
    "python": {
     "delete_cmd_postfix": "",
     "delete_cmd_prefix": "del ",
     "library": "var_list.py",
     "varRefreshCmd": "print(var_dic_list())"
    },
    "r": {
     "delete_cmd_postfix": ") ",
     "delete_cmd_prefix": "rm(",
     "library": "var_list.r",
     "varRefreshCmd": "cat(var_dic_list()) "
    }
   },
   "types_to_exclude": [
    "module",
    "function",
    "builtin_function_or_method",
    "instance",
    "_Feature"
   ],
   "window_display": false
  }
 },
 "nbformat": 4,
 "nbformat_minor": 4
}
